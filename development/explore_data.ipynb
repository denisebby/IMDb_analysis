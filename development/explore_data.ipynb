{
 "cells": [
  {
   "attachments": {},
   "cell_type": "markdown",
   "metadata": {},
   "source": [
    "# Explore IMDB Dataset"
   ]
  },
  {
   "cell_type": "code",
   "execution_count": null,
   "metadata": {},
   "outputs": [],
   "source": [
    "# ! conda install -c conda-forge beautifulsoup4 -y"
   ]
  },
  {
   "cell_type": "code",
   "execution_count": null,
   "metadata": {},
   "outputs": [],
   "source": [
    "# ! conda install -c conda-forge matplotlib -y"
   ]
  },
  {
   "cell_type": "code",
   "execution_count": 51,
   "metadata": {},
   "outputs": [],
   "source": [
    "from bs4 import BeautifulSoup\n",
    "\n",
    "import requests\n",
    "import sys\n",
    "import random"
   ]
  },
  {
   "cell_type": "code",
   "execution_count": 13,
   "metadata": {},
   "outputs": [],
   "source": [
    "# we webscrape in case the underlying data source urls change (even though it is referring to the same data)\n",
    "main_data_source_url = \"https://datasets.imdbws.com/\"\n",
    "results = requests.get(main_data_source_url)\n",
    "doc = BeautifulSoup(results.text, \"html.parser\")\n",
    "urls_dict = {elem.text: elem.a[\"href\"] for elem in doc.find_all(\"ul\")}\n"
   ]
  },
  {
   "cell_type": "code",
   "execution_count": 19,
   "metadata": {},
   "outputs": [
    {
     "data": {
      "text/plain": [
       "dict_keys(['name.basics.tsv.gz', 'title.akas.tsv.gz', 'title.basics.tsv.gz', 'title.crew.tsv.gz', 'title.episode.tsv.gz', 'title.principals.tsv.gz', 'title.ratings.tsv.gz'])"
      ]
     },
     "execution_count": 19,
     "metadata": {},
     "output_type": "execute_result"
    }
   ],
   "source": [
    "urls_dict.keys()"
   ]
  },
  {
   "cell_type": "code",
   "execution_count": 22,
   "metadata": {},
   "outputs": [],
   "source": [
    "# we manually specify file names and file formats just in case \\\n",
    "# the main data source page changes either the file names or formats\n",
    "files_to_read = ['name.basics.tsv.gz', \n",
    "'title.akas.tsv.gz', \n",
    "'title.basics.tsv.gz', \n",
    "'title.crew.tsv.gz', \n",
    "'title.episode.tsv.gz', \n",
    "'title.principals.tsv.gz', \n",
    "'title.ratings.tsv.gz'\n",
    "]"
   ]
  },
  {
   "cell_type": "code",
   "execution_count": 30,
   "metadata": {},
   "outputs": [
    {
     "name": "stdout",
     "output_type": "stream",
     "text": [
      "set()\n"
     ]
    }
   ],
   "source": [
    "print(set(files_to_read) - set(urls_dict.keys()))"
   ]
  },
  {
   "cell_type": "code",
   "execution_count": 24,
   "metadata": {},
   "outputs": [],
   "source": [
    "estimated_data_size_dict = dict()\n",
    "\n",
    "for file_ in files_to_read:\n",
    "    response = requests.head(urls_dict[file_], allow_redirects=True)\n",
    "\n",
    "    size = response.headers.get('content-length', -1)\n",
    "\n",
    "    # size in megabytes (Python 2, 3)\n",
    "    size_readable = round(int(size) / float(1 << 20), 2)\n",
    "    estimated_data_size_dict[file_] = size_readable\n"
   ]
  },
  {
   "cell_type": "code",
   "execution_count": 39,
   "metadata": {},
   "outputs": [
    {
     "name": "stdout",
     "output_type": "stream",
     "text": [
      "title.principals.tsv.gz 412.59 MB\n",
      "title.akas.tsv.gz 286.63 MB\n",
      "name.basics.tsv.gz 231.87 MB\n",
      "title.basics.tsv.gz 162.07 MB\n",
      "title.crew.tsv.gz 62.13 MB\n",
      "title.episode.tsv.gz 38.42 MB\n",
      "title.ratings.tsv.gz 6.2 MB\n"
     ]
    }
   ],
   "source": [
    "for file_size_elem in sorted(estimated_data_size_dict.items(), key=lambda x:x[1], reverse = True):\n",
    "    print(f\"{file_size_elem[0]} {file_size_elem[1]} MB\")"
   ]
  },
  {
   "cell_type": "code",
   "execution_count": null,
   "metadata": {},
   "outputs": [],
   "source": []
  },
  {
   "attachments": {},
   "cell_type": "markdown",
   "metadata": {},
   "source": [
    "# Title Principals\n",
    "\n",
    "Contains the principal cast/crew for titles (this is why this is the largest dataset)"
   ]
  },
  {
   "cell_type": "code",
   "execution_count": 68,
   "metadata": {},
   "outputs": [],
   "source": [
    "principals_df = pd.read_csv(\"data/title.principals.tsv.gz\", sep='\\t', compression='gzip', header=0, \n",
    "        skiprows=lambda i: i>0 and random.random() > 0.01)\n",
    "    "
   ]
  },
  {
   "cell_type": "code",
   "execution_count": 69,
   "metadata": {},
   "outputs": [
    {
     "data": {
      "text/plain": [
       "(553366, 6)"
      ]
     },
     "execution_count": 69,
     "metadata": {},
     "output_type": "execute_result"
    }
   ],
   "source": [
    "principals_df.shape"
   ]
  },
  {
   "cell_type": "code",
   "execution_count": 70,
   "metadata": {},
   "outputs": [
    {
     "data": {
      "text/plain": [
       "tconst\n",
       "tt0000034    1\n",
       "tt0000245    1\n",
       "tt0000302    1\n",
       "tt0000442    1\n",
       "tt0000490    1\n",
       "            ..\n",
       "tt9916788    1\n",
       "tt9916814    1\n",
       "tt9916822    1\n",
       "tt9916832    1\n",
       "tt9916850    1\n",
       "Name: tconst, Length: 533837, dtype: int64"
      ]
     },
     "execution_count": 70,
     "metadata": {},
     "output_type": "execute_result"
    }
   ],
   "source": [
    "principals_df.groupby(by=\"tconst\")[\"tconst\"].count()"
   ]
  },
  {
   "cell_type": "code",
   "execution_count": 71,
   "metadata": {},
   "outputs": [
    {
     "data": {
      "text/plain": [
       "actor                  121591\n",
       "self                    95824\n",
       "actress                 94620\n",
       "writer                  77434\n",
       "director                64380\n",
       "producer                35766\n",
       "cinematographer         19205\n",
       "composer                18843\n",
       "editor                  18445\n",
       "production_designer      3620\n",
       "archive_footage          3599\n",
       "archive_sound              39\n",
       "Name: category, dtype: int64"
      ]
     },
     "execution_count": 71,
     "metadata": {},
     "output_type": "execute_result"
    }
   ],
   "source": [
    "principals_df.category.value_counts()"
   ]
  },
  {
   "cell_type": "code",
   "execution_count": 57,
   "metadata": {},
   "outputs": [
    {
     "data": {
      "text/html": [
       "<div>\n",
       "<style scoped>\n",
       "    .dataframe tbody tr th:only-of-type {\n",
       "        vertical-align: middle;\n",
       "    }\n",
       "\n",
       "    .dataframe tbody tr th {\n",
       "        vertical-align: top;\n",
       "    }\n",
       "\n",
       "    .dataframe thead th {\n",
       "        text-align: right;\n",
       "    }\n",
       "</style>\n",
       "<table border=\"1\" class=\"dataframe\">\n",
       "  <thead>\n",
       "    <tr style=\"text-align: right;\">\n",
       "      <th></th>\n",
       "      <th>tconst</th>\n",
       "      <th>ordering</th>\n",
       "      <th>nconst</th>\n",
       "      <th>category</th>\n",
       "      <th>job</th>\n",
       "      <th>characters</th>\n",
       "    </tr>\n",
       "  </thead>\n",
       "  <tbody>\n",
       "    <tr>\n",
       "      <th>438844</th>\n",
       "      <td>tt5634684</td>\n",
       "      <td>1</td>\n",
       "      <td>nm3727149</td>\n",
       "      <td>actress</td>\n",
       "      <td>\\N</td>\n",
       "      <td>[\"Lee Young-ae\"]</td>\n",
       "    </tr>\n",
       "    <tr>\n",
       "      <th>288950</th>\n",
       "      <td>tt18967056</td>\n",
       "      <td>2</td>\n",
       "      <td>nm13508191</td>\n",
       "      <td>writer</td>\n",
       "      <td>\\N</td>\n",
       "      <td>\\N</td>\n",
       "    </tr>\n",
       "    <tr>\n",
       "      <th>144871</th>\n",
       "      <td>tt1210456</td>\n",
       "      <td>5</td>\n",
       "      <td>nm0882089</td>\n",
       "      <td>self</td>\n",
       "      <td>\\N</td>\n",
       "      <td>[\"Self - Contestant\"]</td>\n",
       "    </tr>\n",
       "    <tr>\n",
       "      <th>127801</th>\n",
       "      <td>tt11571136</td>\n",
       "      <td>5</td>\n",
       "      <td>nm11138478</td>\n",
       "      <td>producer</td>\n",
       "      <td>producer</td>\n",
       "      <td>\\N</td>\n",
       "    </tr>\n",
       "    <tr>\n",
       "      <th>445249</th>\n",
       "      <td>tt5895468</td>\n",
       "      <td>2</td>\n",
       "      <td>nm6844693</td>\n",
       "      <td>self</td>\n",
       "      <td>\\N</td>\n",
       "      <td>[\"Self - Panelist\"]</td>\n",
       "    </tr>\n",
       "    <tr>\n",
       "      <th>350795</th>\n",
       "      <td>tt24322492</td>\n",
       "      <td>5</td>\n",
       "      <td>nm0093505</td>\n",
       "      <td>director</td>\n",
       "      <td>\\N</td>\n",
       "      <td>\\N</td>\n",
       "    </tr>\n",
       "    <tr>\n",
       "      <th>107974</th>\n",
       "      <td>tt10990680</td>\n",
       "      <td>2</td>\n",
       "      <td>nm4048321</td>\n",
       "      <td>actor</td>\n",
       "      <td>\\N</td>\n",
       "      <td>[\"Grapefruit\"]</td>\n",
       "    </tr>\n",
       "    <tr>\n",
       "      <th>33091</th>\n",
       "      <td>tt0464409</td>\n",
       "      <td>7</td>\n",
       "      <td>nm1864983</td>\n",
       "      <td>self</td>\n",
       "      <td>\\N</td>\n",
       "      <td>[\"Self\"]</td>\n",
       "    </tr>\n",
       "    <tr>\n",
       "      <th>506271</th>\n",
       "      <td>tt8298550</td>\n",
       "      <td>6</td>\n",
       "      <td>nm2164306</td>\n",
       "      <td>director</td>\n",
       "      <td>\\N</td>\n",
       "      <td>\\N</td>\n",
       "    </tr>\n",
       "    <tr>\n",
       "      <th>323717</th>\n",
       "      <td>tt21837522</td>\n",
       "      <td>2</td>\n",
       "      <td>nm9653000</td>\n",
       "      <td>actress</td>\n",
       "      <td>\\N</td>\n",
       "      <td>\\N</td>\n",
       "    </tr>\n",
       "    <tr>\n",
       "      <th>526216</th>\n",
       "      <td>tt8997390</td>\n",
       "      <td>3</td>\n",
       "      <td>nm7431178</td>\n",
       "      <td>actor</td>\n",
       "      <td>\\N</td>\n",
       "      <td>[\"Tsotne Tsotashvili\"]</td>\n",
       "    </tr>\n",
       "    <tr>\n",
       "      <th>503803</th>\n",
       "      <td>tt8207806</td>\n",
       "      <td>1</td>\n",
       "      <td>nm1322843</td>\n",
       "      <td>self</td>\n",
       "      <td>\\N</td>\n",
       "      <td>[\"Self - Host\",\"Self - On-Air Presenter\",\"Self\"]</td>\n",
       "    </tr>\n",
       "    <tr>\n",
       "      <th>49096</th>\n",
       "      <td>tt0664225</td>\n",
       "      <td>2</td>\n",
       "      <td>nm0001430</td>\n",
       "      <td>actor</td>\n",
       "      <td>\\N</td>\n",
       "      <td>[\"Oscar Madison\"]</td>\n",
       "    </tr>\n",
       "    <tr>\n",
       "      <th>95017</th>\n",
       "      <td>tt10592456</td>\n",
       "      <td>1</td>\n",
       "      <td>nm3178131</td>\n",
       "      <td>self</td>\n",
       "      <td>\\N</td>\n",
       "      <td>[\"Self - Host\"]</td>\n",
       "    </tr>\n",
       "    <tr>\n",
       "      <th>455619</th>\n",
       "      <td>tt6317746</td>\n",
       "      <td>6</td>\n",
       "      <td>nm3480350</td>\n",
       "      <td>producer</td>\n",
       "      <td>producer</td>\n",
       "      <td>\\N</td>\n",
       "    </tr>\n",
       "    <tr>\n",
       "      <th>387796</th>\n",
       "      <td>tt3379816</td>\n",
       "      <td>7</td>\n",
       "      <td>nm0612649</td>\n",
       "      <td>actor</td>\n",
       "      <td>\\N</td>\n",
       "      <td>[\"Narrator\"]</td>\n",
       "    </tr>\n",
       "    <tr>\n",
       "      <th>124581</th>\n",
       "      <td>tt11475400</td>\n",
       "      <td>5</td>\n",
       "      <td>nm10018774</td>\n",
       "      <td>writer</td>\n",
       "      <td>dialogue</td>\n",
       "      <td>\\N</td>\n",
       "    </tr>\n",
       "    <tr>\n",
       "      <th>417347</th>\n",
       "      <td>tt4679758</td>\n",
       "      <td>3</td>\n",
       "      <td>nm9002067</td>\n",
       "      <td>actress</td>\n",
       "      <td>\\N</td>\n",
       "      <td>[\"Hair Stylist\"]</td>\n",
       "    </tr>\n",
       "    <tr>\n",
       "      <th>498690</th>\n",
       "      <td>tt8021870</td>\n",
       "      <td>4</td>\n",
       "      <td>nm0748359</td>\n",
       "      <td>actress</td>\n",
       "      <td>\\N</td>\n",
       "      <td>[\"Clemencia\"]</td>\n",
       "    </tr>\n",
       "    <tr>\n",
       "      <th>373071</th>\n",
       "      <td>tt27329429</td>\n",
       "      <td>1</td>\n",
       "      <td>nm2072883</td>\n",
       "      <td>actress</td>\n",
       "      <td>\\N</td>\n",
       "      <td>[\"Gayatri Deviamma\"]</td>\n",
       "    </tr>\n",
       "    <tr>\n",
       "      <th>514770</th>\n",
       "      <td>tt8600772</td>\n",
       "      <td>8</td>\n",
       "      <td>nm5958000</td>\n",
       "      <td>production_designer</td>\n",
       "      <td>\\N</td>\n",
       "      <td>\\N</td>\n",
       "    </tr>\n",
       "    <tr>\n",
       "      <th>33058</th>\n",
       "      <td>tt0463975</td>\n",
       "      <td>8</td>\n",
       "      <td>nm1953850</td>\n",
       "      <td>editor</td>\n",
       "      <td>\\N</td>\n",
       "      <td>\\N</td>\n",
       "    </tr>\n",
       "    <tr>\n",
       "      <th>370102</th>\n",
       "      <td>tt27073899</td>\n",
       "      <td>4</td>\n",
       "      <td>nm14635656</td>\n",
       "      <td>actor</td>\n",
       "      <td>\\N</td>\n",
       "      <td>[\"Young Lawrence\"]</td>\n",
       "    </tr>\n",
       "    <tr>\n",
       "      <th>91578</th>\n",
       "      <td>tt10499084</td>\n",
       "      <td>9</td>\n",
       "      <td>nm6669971</td>\n",
       "      <td>writer</td>\n",
       "      <td>writer</td>\n",
       "      <td>\\N</td>\n",
       "    </tr>\n",
       "    <tr>\n",
       "      <th>286402</th>\n",
       "      <td>tt18693148</td>\n",
       "      <td>5</td>\n",
       "      <td>nm3899099</td>\n",
       "      <td>director</td>\n",
       "      <td>\\N</td>\n",
       "      <td>\\N</td>\n",
       "    </tr>\n",
       "  </tbody>\n",
       "</table>\n",
       "</div>"
      ],
      "text/plain": [
       "            tconst  ordering      nconst             category       job  \\\n",
       "438844   tt5634684         1   nm3727149              actress        \\N   \n",
       "288950  tt18967056         2  nm13508191               writer        \\N   \n",
       "144871   tt1210456         5   nm0882089                 self        \\N   \n",
       "127801  tt11571136         5  nm11138478             producer  producer   \n",
       "445249   tt5895468         2   nm6844693                 self        \\N   \n",
       "350795  tt24322492         5   nm0093505             director        \\N   \n",
       "107974  tt10990680         2   nm4048321                actor        \\N   \n",
       "33091    tt0464409         7   nm1864983                 self        \\N   \n",
       "506271   tt8298550         6   nm2164306             director        \\N   \n",
       "323717  tt21837522         2   nm9653000              actress        \\N   \n",
       "526216   tt8997390         3   nm7431178                actor        \\N   \n",
       "503803   tt8207806         1   nm1322843                 self        \\N   \n",
       "49096    tt0664225         2   nm0001430                actor        \\N   \n",
       "95017   tt10592456         1   nm3178131                 self        \\N   \n",
       "455619   tt6317746         6   nm3480350             producer  producer   \n",
       "387796   tt3379816         7   nm0612649                actor        \\N   \n",
       "124581  tt11475400         5  nm10018774               writer  dialogue   \n",
       "417347   tt4679758         3   nm9002067              actress        \\N   \n",
       "498690   tt8021870         4   nm0748359              actress        \\N   \n",
       "373071  tt27329429         1   nm2072883              actress        \\N   \n",
       "514770   tt8600772         8   nm5958000  production_designer        \\N   \n",
       "33058    tt0463975         8   nm1953850               editor        \\N   \n",
       "370102  tt27073899         4  nm14635656                actor        \\N   \n",
       "91578   tt10499084         9   nm6669971               writer    writer   \n",
       "286402  tt18693148         5   nm3899099             director        \\N   \n",
       "\n",
       "                                              characters  \n",
       "438844                                  [\"Lee Young-ae\"]  \n",
       "288950                                                \\N  \n",
       "144871                             [\"Self - Contestant\"]  \n",
       "127801                                                \\N  \n",
       "445249                               [\"Self - Panelist\"]  \n",
       "350795                                                \\N  \n",
       "107974                                    [\"Grapefruit\"]  \n",
       "33091                                           [\"Self\"]  \n",
       "506271                                                \\N  \n",
       "323717                                                \\N  \n",
       "526216                            [\"Tsotne Tsotashvili\"]  \n",
       "503803  [\"Self - Host\",\"Self - On-Air Presenter\",\"Self\"]  \n",
       "49096                                  [\"Oscar Madison\"]  \n",
       "95017                                    [\"Self - Host\"]  \n",
       "455619                                                \\N  \n",
       "387796                                      [\"Narrator\"]  \n",
       "124581                                                \\N  \n",
       "417347                                  [\"Hair Stylist\"]  \n",
       "498690                                     [\"Clemencia\"]  \n",
       "373071                              [\"Gayatri Deviamma\"]  \n",
       "514770                                                \\N  \n",
       "33058                                                 \\N  \n",
       "370102                                [\"Young Lawrence\"]  \n",
       "91578                                                 \\N  \n",
       "286402                                                \\N  "
      ]
     },
     "execution_count": 57,
     "metadata": {},
     "output_type": "execute_result"
    }
   ],
   "source": [
    "principals_df.sample(25)"
   ]
  },
  {
   "cell_type": "code",
   "execution_count": 65,
   "metadata": {},
   "outputs": [
    {
     "data": {
      "text/html": [
       "<div>\n",
       "<style scoped>\n",
       "    .dataframe tbody tr th:only-of-type {\n",
       "        vertical-align: middle;\n",
       "    }\n",
       "\n",
       "    .dataframe tbody tr th {\n",
       "        vertical-align: top;\n",
       "    }\n",
       "\n",
       "    .dataframe thead th {\n",
       "        text-align: right;\n",
       "    }\n",
       "</style>\n",
       "<table border=\"1\" class=\"dataframe\">\n",
       "  <thead>\n",
       "    <tr style=\"text-align: right;\">\n",
       "      <th></th>\n",
       "      <th>tconst</th>\n",
       "      <th>ordering</th>\n",
       "      <th>nconst</th>\n",
       "      <th>category</th>\n",
       "      <th>job</th>\n",
       "      <th>characters</th>\n",
       "    </tr>\n",
       "  </thead>\n",
       "  <tbody>\n",
       "    <tr>\n",
       "      <th>438844</th>\n",
       "      <td>tt5634684</td>\n",
       "      <td>1</td>\n",
       "      <td>nm3727149</td>\n",
       "      <td>actress</td>\n",
       "      <td>\\N</td>\n",
       "      <td>[\"Lee Young-ae\"]</td>\n",
       "    </tr>\n",
       "  </tbody>\n",
       "</table>\n",
       "</div>"
      ],
      "text/plain": [
       "           tconst  ordering     nconst category job        characters\n",
       "438844  tt5634684         1  nm3727149  actress  \\N  [\"Lee Young-ae\"]"
      ]
     },
     "execution_count": 65,
     "metadata": {},
     "output_type": "execute_result"
    }
   ],
   "source": [
    "principals_df.query(\"tconst == 'tt5634684'\")"
   ]
  },
  {
   "attachments": {},
   "cell_type": "markdown",
   "metadata": {},
   "source": [
    "# Title AKAS\n",
    "Contains information about titles:\n"
   ]
  },
  {
   "cell_type": "code",
   "execution_count": null,
   "metadata": {},
   "outputs": [],
   "source": []
  },
  {
   "attachments": {},
   "cell_type": "markdown",
   "metadata": {},
   "source": [
    "# Name Basics\n",
    "contains information about people"
   ]
  },
  {
   "cell_type": "code",
   "execution_count": 1,
   "metadata": {},
   "outputs": [],
   "source": [
    "import pandas as pd\n",
    "\n",
    "url = 'https://datasets.imdbws.com/name.basics.tsv.gz'\n",
    "name_df = pd.read_csv(url, compression='gzip', sep='\\t', header=0)\n"
   ]
  },
  {
   "attachments": {},
   "cell_type": "markdown",
   "metadata": {},
   "source": [
    "# Title Basics\n"
   ]
  },
  {
   "cell_type": "code",
   "execution_count": 41,
   "metadata": {},
   "outputs": [
    {
     "data": {
      "text/plain": [
       "(12410617, 6)"
      ]
     },
     "execution_count": 41,
     "metadata": {},
     "output_type": "execute_result"
    }
   ],
   "source": [
    "name_df.shape"
   ]
  },
  {
   "attachments": {},
   "cell_type": "markdown",
   "metadata": {},
   "source": [
    "# Title Crew\n",
    "\n",
    "Contains the director and writer information for all the titles in IMDb"
   ]
  },
  {
   "cell_type": "code",
   "execution_count": 40,
   "metadata": {},
   "outputs": [
    {
     "data": {
      "text/html": [
       "<div>\n",
       "<style scoped>\n",
       "    .dataframe tbody tr th:only-of-type {\n",
       "        vertical-align: middle;\n",
       "    }\n",
       "\n",
       "    .dataframe tbody tr th {\n",
       "        vertical-align: top;\n",
       "    }\n",
       "\n",
       "    .dataframe thead th {\n",
       "        text-align: right;\n",
       "    }\n",
       "</style>\n",
       "<table border=\"1\" class=\"dataframe\">\n",
       "  <thead>\n",
       "    <tr style=\"text-align: right;\">\n",
       "      <th></th>\n",
       "      <th>nconst</th>\n",
       "      <th>primaryName</th>\n",
       "      <th>birthYear</th>\n",
       "      <th>deathYear</th>\n",
       "      <th>primaryProfession</th>\n",
       "      <th>knownForTitles</th>\n",
       "    </tr>\n",
       "  </thead>\n",
       "  <tbody>\n",
       "    <tr>\n",
       "      <th>count</th>\n",
       "      <td>12410617</td>\n",
       "      <td>12410614</td>\n",
       "      <td>12410617</td>\n",
       "      <td>12410617</td>\n",
       "      <td>9710846</td>\n",
       "      <td>12410617</td>\n",
       "    </tr>\n",
       "    <tr>\n",
       "      <th>unique</th>\n",
       "      <td>12410617</td>\n",
       "      <td>9630938</td>\n",
       "      <td>524</td>\n",
       "      <td>465</td>\n",
       "      <td>21244</td>\n",
       "      <td>5135934</td>\n",
       "    </tr>\n",
       "    <tr>\n",
       "      <th>top</th>\n",
       "      <td>nm0000001</td>\n",
       "      <td>Alex</td>\n",
       "      <td>\\N</td>\n",
       "      <td>\\N</td>\n",
       "      <td>actor</td>\n",
       "      <td>\\N</td>\n",
       "    </tr>\n",
       "    <tr>\n",
       "      <th>freq</th>\n",
       "      <td>1</td>\n",
       "      <td>400</td>\n",
       "      <td>11836255</td>\n",
       "      <td>12197425</td>\n",
       "      <td>2197053</td>\n",
       "      <td>2162191</td>\n",
       "    </tr>\n",
       "  </tbody>\n",
       "</table>\n",
       "</div>"
      ],
      "text/plain": [
       "           nconst primaryName birthYear deathYear primaryProfession  \\\n",
       "count    12410617    12410614  12410617  12410617           9710846   \n",
       "unique   12410617     9630938       524       465             21244   \n",
       "top     nm0000001        Alex        \\N        \\N             actor   \n",
       "freq            1         400  11836255  12197425           2197053   \n",
       "\n",
       "       knownForTitles  \n",
       "count        12410617  \n",
       "unique        5135934  \n",
       "top                \\N  \n",
       "freq          2162191  "
      ]
     },
     "execution_count": 40,
     "metadata": {},
     "output_type": "execute_result"
    }
   ],
   "source": [
    "name_df.describe()"
   ]
  },
  {
   "cell_type": "code",
   "execution_count": 42,
   "metadata": {},
   "outputs": [
    {
     "data": {
      "text/html": [
       "<div>\n",
       "<style scoped>\n",
       "    .dataframe tbody tr th:only-of-type {\n",
       "        vertical-align: middle;\n",
       "    }\n",
       "\n",
       "    .dataframe tbody tr th {\n",
       "        vertical-align: top;\n",
       "    }\n",
       "\n",
       "    .dataframe thead th {\n",
       "        text-align: right;\n",
       "    }\n",
       "</style>\n",
       "<table border=\"1\" class=\"dataframe\">\n",
       "  <thead>\n",
       "    <tr style=\"text-align: right;\">\n",
       "      <th></th>\n",
       "      <th>nconst</th>\n",
       "      <th>primaryName</th>\n",
       "      <th>birthYear</th>\n",
       "      <th>deathYear</th>\n",
       "      <th>primaryProfession</th>\n",
       "      <th>knownForTitles</th>\n",
       "    </tr>\n",
       "  </thead>\n",
       "  <tbody>\n",
       "    <tr>\n",
       "      <th>8828423</th>\n",
       "      <td>nm5461678</td>\n",
       "      <td>Simon Vierma</td>\n",
       "      <td>\\N</td>\n",
       "      <td>\\N</td>\n",
       "      <td>miscellaneous</td>\n",
       "      <td>tt2617592</td>\n",
       "    </tr>\n",
       "    <tr>\n",
       "      <th>12274101</th>\n",
       "      <td>nm9834569</td>\n",
       "      <td>Jared Rayo</td>\n",
       "      <td>\\N</td>\n",
       "      <td>\\N</td>\n",
       "      <td>actor</td>\n",
       "      <td>tt8325484</td>\n",
       "    </tr>\n",
       "    <tr>\n",
       "      <th>5895574</th>\n",
       "      <td>nm2129364</td>\n",
       "      <td>Brian Moore</td>\n",
       "      <td>\\N</td>\n",
       "      <td>\\N</td>\n",
       "      <td>actor</td>\n",
       "      <td>tt0498105,tt2364693</td>\n",
       "    </tr>\n",
       "    <tr>\n",
       "      <th>1462283</th>\n",
       "      <td>nm10580669</td>\n",
       "      <td>Harry van der Zee</td>\n",
       "      <td>\\N</td>\n",
       "      <td>\\N</td>\n",
       "      <td>NaN</td>\n",
       "      <td>tt10097954</td>\n",
       "    </tr>\n",
       "    <tr>\n",
       "      <th>5035989</th>\n",
       "      <td>nm14397026</td>\n",
       "      <td>Mahendra Prasad</td>\n",
       "      <td>\\N</td>\n",
       "      <td>\\N</td>\n",
       "      <td>actor</td>\n",
       "      <td>tt25151254</td>\n",
       "    </tr>\n",
       "    <tr>\n",
       "      <th>11082940</th>\n",
       "      <td>nm8367641</td>\n",
       "      <td>Karoline Bentsen</td>\n",
       "      <td>\\N</td>\n",
       "      <td>\\N</td>\n",
       "      <td>actress</td>\n",
       "      <td>tt0971172,tt6003320</td>\n",
       "    </tr>\n",
       "    <tr>\n",
       "      <th>6080459</th>\n",
       "      <td>nm2341740</td>\n",
       "      <td>Shandie Wattley</td>\n",
       "      <td>\\N</td>\n",
       "      <td>\\N</td>\n",
       "      <td>actress</td>\n",
       "      <td>tt0839787,tt0433451</td>\n",
       "    </tr>\n",
       "    <tr>\n",
       "      <th>12143627</th>\n",
       "      <td>nm9680440</td>\n",
       "      <td>Bennett Caldwell</td>\n",
       "      <td>\\N</td>\n",
       "      <td>\\N</td>\n",
       "      <td>cinematographer</td>\n",
       "      <td>tt8107224,tt22307186</td>\n",
       "    </tr>\n",
       "    <tr>\n",
       "      <th>2090857</th>\n",
       "      <td>nm11235274</td>\n",
       "      <td>Larissa Cavalcante</td>\n",
       "      <td>\\N</td>\n",
       "      <td>\\N</td>\n",
       "      <td>producer,actress,cinematographer</td>\n",
       "      <td>tt11519570,tt22055300</td>\n",
       "    </tr>\n",
       "    <tr>\n",
       "      <th>1100538</th>\n",
       "      <td>nm10191896</td>\n",
       "      <td>Julio Morales</td>\n",
       "      <td>\\N</td>\n",
       "      <td>\\N</td>\n",
       "      <td>actor</td>\n",
       "      <td>\\N</td>\n",
       "    </tr>\n",
       "  </tbody>\n",
       "</table>\n",
       "</div>"
      ],
      "text/plain": [
       "              nconst         primaryName birthYear deathYear  \\\n",
       "8828423    nm5461678        Simon Vierma        \\N        \\N   \n",
       "12274101   nm9834569          Jared Rayo        \\N        \\N   \n",
       "5895574    nm2129364         Brian Moore        \\N        \\N   \n",
       "1462283   nm10580669   Harry van der Zee        \\N        \\N   \n",
       "5035989   nm14397026     Mahendra Prasad        \\N        \\N   \n",
       "11082940   nm8367641    Karoline Bentsen        \\N        \\N   \n",
       "6080459    nm2341740     Shandie Wattley        \\N        \\N   \n",
       "12143627   nm9680440    Bennett Caldwell        \\N        \\N   \n",
       "2090857   nm11235274  Larissa Cavalcante        \\N        \\N   \n",
       "1100538   nm10191896       Julio Morales        \\N        \\N   \n",
       "\n",
       "                         primaryProfession         knownForTitles  \n",
       "8828423                      miscellaneous              tt2617592  \n",
       "12274101                             actor              tt8325484  \n",
       "5895574                              actor    tt0498105,tt2364693  \n",
       "1462283                                NaN             tt10097954  \n",
       "5035989                              actor             tt25151254  \n",
       "11082940                           actress    tt0971172,tt6003320  \n",
       "6080459                            actress    tt0839787,tt0433451  \n",
       "12143627                   cinematographer   tt8107224,tt22307186  \n",
       "2090857   producer,actress,cinematographer  tt11519570,tt22055300  \n",
       "1100538                              actor                     \\N  "
      ]
     },
     "execution_count": 42,
     "metadata": {},
     "output_type": "execute_result"
    }
   ],
   "source": [
    "name_df.sample(10)"
   ]
  },
  {
   "cell_type": "code",
   "execution_count": 49,
   "metadata": {},
   "outputs": [
    {
     "data": {
      "text/plain": [
       "<Axes: >"
      ]
     },
     "execution_count": 49,
     "metadata": {},
     "output_type": "execute_result"
    },
    {
     "data": {
      "image/png": "[encoded data removed]",
      "text/plain": [
       "<Figure size 640x480 with 1 Axes>"
      ]
     },
     "metadata": {},
     "output_type": "display_data"
    }
   ],
   "source": [
    "name_df.primaryProfession.value_counts().hist(bins=200)"
   ]
  },
  {
   "attachments": {},
   "cell_type": "markdown",
   "metadata": {},
   "source": [
    "# Title Episode\n",
    "Contains the tv episode information."
   ]
  },
  {
   "attachments": {},
   "cell_type": "markdown",
   "metadata": {},
   "source": []
  },
  {
   "attachments": {},
   "cell_type": "markdown",
   "metadata": {},
   "source": [
    "# Title Ratings\n",
    "Contains the IMDb rating and votes information for titles"
   ]
  },
  {
   "cell_type": "code",
   "execution_count": null,
   "metadata": {},
   "outputs": [],
   "source": []
  },
  {
   "attachments": {},
   "cell_type": "markdown",
   "metadata": {},
   "source": [
    "# Possible Target Plots"
   ]
  },
  {
   "attachments": {},
   "cell_type": "markdown",
   "metadata": {},
   "source": [
    "Incorporate ratings and crew information:\n",
    "\n",
    "- 1 graph that shows the distribution of some categorical data \n",
    "    - distribution of ratings by genre\n",
    "- 1 graph that shows the distribution of the data across a temporal line\n",
    "    - distribution of "
   ]
  }
 ],
 "metadata": {
  "kernelspec": {
   "display_name": "de-zoomcamp",
   "language": "python",
   "name": "python3"
  },
  "language_info": {
   "codemirror_mode": {
    "name": "ipython",
    "version": 3
   },
   "file_extension": ".py",
   "mimetype": "text/x-python",
   "name": "python",
   "nbconvert_exporter": "python",
   "pygments_lexer": "ipython3",
   "version": "3.9.16"
  },
  "orig_nbformat": 4,
  "vscode": {
   "interpreter": {
    "hash": "b620a8fc53a7af1082ea3d737a7790584c4ff6f2bb486977cd8c51f50ad64362"
   }
  }
 },
 "nbformat": 4,
 "nbformat_minor": 2
}
